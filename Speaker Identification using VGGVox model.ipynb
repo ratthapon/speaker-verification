{
 "cells": [
  {
   "cell_type": "code",
   "execution_count": 16,
   "metadata": {},
   "outputs": [],
   "source": [
    "import os\n",
    "import numpy as np\n",
    "import pandas as pd\n",
    "from scipy.spatial.distance import cdist, euclidean, cosine\n",
    "from glob import glob\n",
    "\n",
    "from model import vggvox_model\n",
    "from wav_reader import get_fft_spectrum\n",
    "import constants as c"
   ]
  },
  {
   "cell_type": "code",
   "execution_count": 7,
   "metadata": {},
   "outputs": [
    {
     "name": "stdout",
     "output_type": "stream",
     "text": [
      "Model: \"VGGVox\"\n",
      "_________________________________________________________________\n",
      "Layer (type)                 Output Shape              Param #   \n",
      "=================================================================\n",
      "input (InputLayer)           (None, 512, None, 1)      0         \n",
      "_________________________________________________________________\n",
      "pad1 (ZeroPadding2D)         (None, 514, None, 1)      0         \n",
      "_________________________________________________________________\n",
      "conv1 (Conv2D)               (None, 254, None, 96)     4800      \n",
      "_________________________________________________________________\n",
      "bn1 (BatchNormalization)     (None, 254, None, 96)     384       \n",
      "_________________________________________________________________\n",
      "relu1 (Activation)           (None, 254, None, 96)     0         \n",
      "_________________________________________________________________\n",
      "mpool1 (MaxPooling2D)        (None, 126, None, 96)     0         \n",
      "_________________________________________________________________\n",
      "pad2 (ZeroPadding2D)         (None, 128, None, 96)     0         \n",
      "_________________________________________________________________\n",
      "conv2 (Conv2D)               (None, 62, None, 256)     614656    \n",
      "_________________________________________________________________\n",
      "bn2 (BatchNormalization)     (None, 62, None, 256)     1024      \n",
      "_________________________________________________________________\n",
      "relu2 (Activation)           (None, 62, None, 256)     0         \n",
      "_________________________________________________________________\n",
      "mpool2 (MaxPooling2D)        (None, 30, None, 256)     0         \n",
      "_________________________________________________________________\n",
      "pad3 (ZeroPadding2D)         (None, 32, None, 256)     0         \n",
      "_________________________________________________________________\n",
      "conv3 (Conv2D)               (None, 30, None, 384)     885120    \n",
      "_________________________________________________________________\n",
      "bn3 (BatchNormalization)     (None, 30, None, 384)     1536      \n",
      "_________________________________________________________________\n",
      "relu3 (Activation)           (None, 30, None, 384)     0         \n",
      "_________________________________________________________________\n",
      "pad4 (ZeroPadding2D)         (None, 32, None, 384)     0         \n",
      "_________________________________________________________________\n",
      "conv4 (Conv2D)               (None, 30, None, 256)     884992    \n",
      "_________________________________________________________________\n",
      "bn4 (BatchNormalization)     (None, 30, None, 256)     1024      \n",
      "_________________________________________________________________\n",
      "relu4 (Activation)           (None, 30, None, 256)     0         \n",
      "_________________________________________________________________\n",
      "pad5 (ZeroPadding2D)         (None, 32, None, 256)     0         \n",
      "_________________________________________________________________\n",
      "conv5 (Conv2D)               (None, 30, None, 256)     590080    \n",
      "_________________________________________________________________\n",
      "bn5 (BatchNormalization)     (None, 30, None, 256)     1024      \n",
      "_________________________________________________________________\n",
      "relu5 (Activation)           (None, 30, None, 256)     0         \n",
      "_________________________________________________________________\n",
      "mpool5 (MaxPooling2D)        (None, 9, None, 256)      0         \n",
      "_________________________________________________________________\n",
      "pad6 (ZeroPadding2D)         (None, 9, None, 256)      0         \n",
      "_________________________________________________________________\n",
      "fc6 (Conv2D)                 (None, 1, None, 4096)     9441280   \n",
      "_________________________________________________________________\n",
      "bn6 (BatchNormalization)     (None, 1, None, 4096)     16384     \n",
      "_________________________________________________________________\n",
      "relu6 (Activation)           (None, 1, None, 4096)     0         \n",
      "_________________________________________________________________\n",
      "gapool6 (GlobalAveragePoolin (None, 4096)              0         \n",
      "_________________________________________________________________\n",
      "reshape6 (Reshape)           (None, 1, 1, 4096)        0         \n",
      "_________________________________________________________________\n",
      "pad7 (ZeroPadding2D)         (None, 1, 1, 4096)        0         \n",
      "_________________________________________________________________\n",
      "fc7 (Conv2D)                 (None, 1, 1, 1024)        4195328   \n",
      "_________________________________________________________________\n",
      "bn7 (BatchNormalization)     (None, 1, 1, 1024)        4096      \n",
      "_________________________________________________________________\n",
      "relu7 (Activation)           (None, 1, 1, 1024)        0         \n",
      "_________________________________________________________________\n",
      "norm (Lambda)                (None, 1, 1, 1024)        0         \n",
      "_________________________________________________________________\n",
      "fc8 (Conv2D)                 (None, 1, 1, 1024)        1049600   \n",
      "=================================================================\n",
      "Total params: 17,691,328\n",
      "Trainable params: 17,678,592\n",
      "Non-trainable params: 12,736\n",
      "_________________________________________________________________\n"
     ]
    }
   ],
   "source": [
    "model = vggvox_model()\n",
    "model.load_weights(c.WEIGHTS_FILE)\n",
    "model.summary()"
   ]
  },
  {
   "cell_type": "code",
   "execution_count": 8,
   "metadata": {},
   "outputs": [],
   "source": [
    "def build_buckets(max_sec, step_sec, frame_step):\n",
    "\tbuckets = {}\n",
    "\tframes_per_sec = int(1/frame_step)\n",
    "\tend_frame = int(max_sec*frames_per_sec)\n",
    "\tstep_frame = int(step_sec*frames_per_sec)\n",
    "\tfor i in range(0, end_frame+1, step_frame):\n",
    "\t\ts = i\n",
    "\t\ts = np.floor((s-7+2)/2) + 1  # conv1\n",
    "\t\ts = np.floor((s-3)/2) + 1  # mpool1\n",
    "\t\ts = np.floor((s-5+2)/2) + 1  # conv2\n",
    "\t\ts = np.floor((s-3)/2) + 1  # mpool2\n",
    "\t\ts = np.floor((s-3+2)/1) + 1  # conv3\n",
    "\t\ts = np.floor((s-3+2)/1) + 1  # conv4\n",
    "\t\ts = np.floor((s-3+2)/1) + 1  # conv5\n",
    "\t\ts = np.floor((s-3)/2) + 1  # mpool5\n",
    "\t\ts = np.floor((s-1)/1) + 1  # fc6\n",
    "\t\tif s > 0:\n",
    "\t\t\tbuckets[i] = int(s)\n",
    "\treturn buckets"
   ]
  },
  {
   "cell_type": "code",
   "execution_count": 9,
   "metadata": {},
   "outputs": [],
   "source": [
    "def get_embeddings_from_list_file(model, list_file, max_sec):\n",
    "\tbuckets = build_buckets(max_sec, c.BUCKET_STEP, c.FRAME_STEP)\n",
    "\tresult = pd.read_csv(list_file, delimiter=\",\")\n",
    "\tresult['features'] = result['filename'].apply(lambda x: get_fft_spectrum(x, buckets))\n",
    "\tresult['embedding'] = result['features'].apply(lambda x: np.squeeze(model.predict(x.reshape(1,*x.shape,1))))\n",
    "\treturn result[['filename','speaker','embedding']]"
   ]
  },
  {
   "cell_type": "code",
   "execution_count": 17,
   "metadata": {},
   "outputs": [
    {
     "name": "stdout",
     "output_type": "stream",
     "text": [
      "Processing enroll samples....\n",
      "Processing test samples....\n",
      "Comparing test samples against enroll samples....\n",
      "Writing outputs to [res/results.csv]....\n"
     ]
    }
   ],
   "source": [
    "print(\"Processing enroll samples....\")\n",
    "enroll_result = get_embeddings_from_list_file(model, c.ENROLL_LIST_FILE, c.MAX_SEC)\n",
    "enroll_embs = np.array([emb.tolist() for emb in enroll_result['embedding']])\n",
    "speakers = enroll_result['speaker']\n",
    "\n",
    "print(\"Processing test samples....\")\n",
    "test_result = get_embeddings_from_list_file(model, c.TEST_LIST_FILE, c.MAX_SEC)\n",
    "test_embs = np.array([emb.tolist() for emb in test_result['embedding']])\n",
    "\n",
    "print(\"Comparing test samples against enroll samples....\")\n",
    "distances = pd.DataFrame(cdist(test_embs, enroll_embs, metric=c.COST_METRIC), columns=speakers)\n",
    "\n",
    "scores = pd.read_csv(c.TEST_LIST_FILE, delimiter=\",\",header=0,names=['test_file','test_speaker'])\n",
    "scores = pd.concat([scores, distances],axis=1)\n",
    "scores['result'] = scores[speakers].idxmin(axis=1)\n",
    "scores['correct'] = (scores['result'] == scores['test_speaker'])*1. # bool to int\n",
    "\n",
    "print(\"Writing outputs to [{}]....\".format(c.RESULT_FILE))\n",
    "result_dir = os.path.dirname(c.RESULT_FILE)\n",
    "if not os.path.exists(result_dir):\n",
    "    os.makedirs(result_dir)\n",
    "with open(c.RESULT_FILE, 'w') as f:\n",
    "    scores.to_csv(f, index=False)"
   ]
  },
  {
   "cell_type": "code",
   "execution_count": 18,
   "metadata": {},
   "outputs": [
    {
     "data": {
      "text/html": [
       "<div>\n",
       "<style scoped>\n",
       "    .dataframe tbody tr th:only-of-type {\n",
       "        vertical-align: middle;\n",
       "    }\n",
       "\n",
       "    .dataframe tbody tr th {\n",
       "        vertical-align: top;\n",
       "    }\n",
       "\n",
       "    .dataframe thead th {\n",
       "        text-align: right;\n",
       "    }\n",
       "</style>\n",
       "<table border=\"1\" class=\"dataframe\">\n",
       "  <thead>\n",
       "    <tr style=\"text-align: right;\">\n",
       "      <th></th>\n",
       "      <th>test_file</th>\n",
       "      <th>test_speaker</th>\n",
       "      <th>19</th>\n",
       "      <th>26</th>\n",
       "      <th>27</th>\n",
       "      <th>result</th>\n",
       "      <th>correct</th>\n",
       "    </tr>\n",
       "  </thead>\n",
       "  <tbody>\n",
       "    <tr>\n",
       "      <th>0</th>\n",
       "      <td>data/wav/test/19-198-0001.wav</td>\n",
       "      <td>19</td>\n",
       "      <td>0.090734</td>\n",
       "      <td>1.110295</td>\n",
       "      <td>1.190071</td>\n",
       "      <td>19</td>\n",
       "      <td>1.0</td>\n",
       "    </tr>\n",
       "    <tr>\n",
       "      <th>1</th>\n",
       "      <td>data/wav/test/27-123349-0001.wav</td>\n",
       "      <td>27</td>\n",
       "      <td>1.524265</td>\n",
       "      <td>0.830944</td>\n",
       "      <td>0.556515</td>\n",
       "      <td>27</td>\n",
       "      <td>1.0</td>\n",
       "    </tr>\n",
       "  </tbody>\n",
       "</table>\n",
       "</div>"
      ],
      "text/plain": [
       "                          test_file  test_speaker        19        26  \\\n",
       "0     data/wav/test/19-198-0001.wav            19  0.090734  1.110295   \n",
       "1  data/wav/test/27-123349-0001.wav            27  1.524265  0.830944   \n",
       "\n",
       "         27  result  correct  \n",
       "0  1.190071      19      1.0  \n",
       "1  0.556515      27      1.0  "
      ]
     },
     "execution_count": 18,
     "metadata": {},
     "output_type": "execute_result"
    }
   ],
   "source": [
    "scores"
   ]
  },
  {
   "cell_type": "code",
   "execution_count": null,
   "metadata": {},
   "outputs": [],
   "source": []
  }
 ],
 "metadata": {
  "kernelspec": {
   "display_name": "Python 3",
   "language": "python",
   "name": "python3"
  },
  "language_info": {
   "codemirror_mode": {
    "name": "ipython",
    "version": 3
   },
   "file_extension": ".py",
   "mimetype": "text/x-python",
   "name": "python",
   "nbconvert_exporter": "python",
   "pygments_lexer": "ipython3",
   "version": "3.7.3"
  }
 },
 "nbformat": 4,
 "nbformat_minor": 2
}
